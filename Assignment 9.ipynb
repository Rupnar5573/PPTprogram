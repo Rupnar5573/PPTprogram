{
 "cells": [
  {
   "cell_type": "code",
   "execution_count": 1,
   "id": "0f000535-7914-4b7c-85c2-6632ae56d2db",
   "metadata": {},
   "outputs": [
    {
     "name": "stdout",
     "output_type": "stream",
     "text": [
      "[1, 2]\n"
     ]
    }
   ],
   "source": [
    "\"\"\"\n",
    "Given a 1-indexed array of integers numbers that are already sorted in non-decreasing order, find two numbers such that they add up to a specific target number. Let these two numbers be numbers[index1] and numbers[index2] where 1 <= index1 < index2 < numbers.length.\n",
    "Return the indices of the two numbers, index1, and index2, added by one as an integer array [index1, index2] of length 2.\n",
    "The tests are generated such that there is exactly one solution. You may not use the same element twice.\n",
    "Your solution must use only constant extra space.\n",
    "Input: numbers = [2,7,11,15], target = 9\n",
    "Output: [1,2]\n",
    "Explanation: The sum of 2 and 7 is 9. Therefore, index1 = 1, index2 = 2. We return [1, 2].\n",
    "\n",
    "\n",
    "\"\"\"\n",
    "def two_sum(numbers, target):\n",
    "  i = 0\n",
    "  j = len(numbers) - 1\n",
    "  while i < j:\n",
    "    if numbers[i] + numbers[j] == target:\n",
    "      return [i + 1, j + 1]\n",
    "    elif numbers[i] + numbers[j] < target:\n",
    "      i += 1\n",
    "    else:\n",
    "      j -= 1\n",
    "  return []\n",
    "\n",
    "\n",
    "if __name__ == \"__main__\":\n",
    "  numbers = [2, 7, 11, 15]\n",
    "  target = 9\n",
    "  indices = two_sum(numbers, target)\n",
    "  print(indices)\n"
   ]
  },
  {
   "cell_type": "code",
   "execution_count": 2,
   "id": "525a5746-73d6-46e8-b1a6-92282d1a9596",
   "metadata": {},
   "outputs": [
    {
     "name": "stdout",
     "output_type": "stream",
     "text": [
      "[4, 4]\n"
     ]
    }
   ],
   "source": [
    "\"\"\"\n",
    "Given an array of integer nums sorted in non-decreasing order, find the starting and ending position of a given target value.\n",
    "If the target is not found in the array, return [-1, -1].\n",
    "You must write an algorithm with O(log n) runtime complexity\n",
    "Input: nums = [5,7,7,8,8,10], target = 8\n",
    "Output: [3,4]\n",
    "\n",
    "\n",
    "\"\"\"\n",
    "def search_range(nums, target):\n",
    " \n",
    "  start = 0\n",
    "  end = len(nums) - 1\n",
    "  while start <= end:\n",
    "    mid = (start + end) // 2\n",
    "    if nums[mid] == target:\n",
    "      # Found the target value.\n",
    "      return [mid, mid]\n",
    "    elif nums[mid] < target:\n",
    "      start = mid + 1\n",
    "    else:\n",
    "      end = mid - 1\n",
    "  return [-1, -1]\n",
    "\n",
    "\n",
    "if __name__ == \"__main__\":\n",
    "  nums = [5, 7, 7, 8, 8, 10]\n",
    "  target = 8\n",
    "  indices = search_range(nums, target)\n",
    "  print(indices)\n"
   ]
  },
  {
   "cell_type": "code",
   "execution_count": 3,
   "id": "0b452b80-1ff6-4032-91de-e26d122d046c",
   "metadata": {},
   "outputs": [
    {
     "name": "stdout",
     "output_type": "stream",
     "text": [
      "2\n"
     ]
    }
   ],
   "source": [
    "\"\"\"\n",
    "A peak element is an element that is strictly greater than its neighbors.\n",
    "Given a 0-indexed integer array nums, find a peak element, and return its index. If the array contains multiple peaks, return the index to any of the peaks.\n",
    "You may imagine that nums[-1] = nums[n] = -∞. In other words, an element is always considered to be strictly greater than a neighbor that is outside the array.\n",
    "You must write an algorithm that runs in O(log n) time.\n",
    "Input: nums = [1,2,3,1]\n",
    "Output: 2\n",
    "\"\"\"\n",
    "def find_peak_element(nums):\n",
    "  \n",
    "  low = 0\n",
    "  high = len(nums) - 1\n",
    "  while low <= high:\n",
    "    mid = (low + high) // 2\n",
    "    if nums[mid] > nums[mid - 1] and nums[mid] > nums[mid + 1]:\n",
    "      return mid\n",
    "    elif nums[mid] < nums[mid - 1]:\n",
    "      high = mid - 1\n",
    "    else:\n",
    "      low = mid + 1\n",
    "  return -1\n",
    "\n",
    "\n",
    "if __name__ == \"__main__\":\n",
    "  nums = [1, 2, 3, 1]\n",
    "  index = find_peak_element(nums)\n",
    "  print(index)\n"
   ]
  },
  {
   "cell_type": "code",
   "execution_count": 4,
   "id": "798f987b-ddbb-48da-b222-9df2e3da507b",
   "metadata": {},
   "outputs": [
    {
     "name": "stdout",
     "output_type": "stream",
     "text": [
      "2\n",
      "4\n"
     ]
    }
   ],
   "source": [
    "\"\"\"\n",
    "Given a sorted array of distinct integers and a target value, return the index if the target is found. If not, return the index where it would be if it were inserted in order.\n",
    "You must write an algorithm with O(log n) runtime complexity.\n",
    "Input: nums = [1,3,5,6], target = 5\n",
    "Output: 2\n",
    "\n",
    "Input: nums = [1,3,5,6], target = 7\n",
    "Output: 4\n",
    "\n",
    "\"\"\"\n",
    "def search_insert(nums, target):\n",
    " \n",
    "  low = 0\n",
    "  high = len(nums) - 1\n",
    "  while low <= high:\n",
    "    mid = (low + high) // 2\n",
    "    if nums[mid] == target:\n",
    "      return mid\n",
    "    elif nums[mid] < target:\n",
    "      low = mid + 1\n",
    "    else:\n",
    "      high = mid - 1\n",
    "  return low\n",
    "\n",
    "\n",
    "if __name__ == \"__main__\":\n",
    "  nums = [1, 3, 5, 6]\n",
    "  target = 5\n",
    "  index = search_insert(nums, target)\n",
    "  print(index)\n",
    "\n",
    "  nums = [1, 3, 5, 6]\n",
    "  target = 7\n",
    "  index = search_insert(nums, target)\n",
    "  print(index)\n"
   ]
  },
  {
   "cell_type": "code",
   "execution_count": 5,
   "id": "785d0055-9a6f-4b61-915b-cffe20d9b09a",
   "metadata": {},
   "outputs": [
    {
     "name": "stdout",
     "output_type": "stream",
     "text": [
      "4\n"
     ]
    }
   ],
   "source": [
    "\"\"\"\n",
    "Find the majority element in the array. A majority element in an array A[] of size n is an element that appears more than n/2 times (and hence there is at most one such element). \n",
    "Input: A[]={3, 3, 4, 2, 4, 4, 2, 4, 4}\n",
    "Output: 4\n",
    "Explanation: The frequency of 4 is 5 which is greater than half of the size of the array size. \n",
    "\n",
    "\"\"\"\n",
    "def find_majority_element(nums):\n",
    " \n",
    "  count = 0\n",
    "  candidate = nums[0]\n",
    "  for num in nums:\n",
    "    if count == 0:\n",
    "      candidate = num\n",
    "      count = 1\n",
    "    elif num == candidate:\n",
    "      count += 1\n",
    "    else:\n",
    "      count -= 1\n",
    "  return candidate if count > 0 else None\n",
    "\n",
    "\n",
    "if __name__ == \"__main__\":\n",
    "  nums = [3, 3, 4, 2, 4, 4, 2, 4, 4]\n",
    "  majority_element = find_majority_element(nums)\n",
    "  print(majority_element)\n"
   ]
  },
  {
   "cell_type": "code",
   "execution_count": 11,
   "id": "05ce25c1-5734-4014-a360-646e7618ab80",
   "metadata": {},
   "outputs": [
    {
     "name": "stdout",
     "output_type": "stream",
     "text": [
      "4\n"
     ]
    }
   ],
   "source": [
    "\"\"\"\n",
    "You are a product manager and currently leading a team to develop a new product. Unfortunately, the latest version of your product fails the quality check. Since each version is developed based on the previous version, all the versions after a bad version are also bad.\n",
    "Suppose you have n versions [1, 2, ..., n] and you want to find out the first bad one, which causes all the following ones to be bad.\n",
    "You are given an API bool isBadVersion(version) which returns whether the version is bad. Implement a function to find the first bad version. You should minimize the number of calls to the API.\n",
    "Input: n = 5, bad = 4\n",
    "Output: 4\n",
    "Explanation:\n",
    "call isBadVersion(3) -> false\n",
    "call isBadVersion(5) -> true\n",
    "call isBadVersion(4) -> true\n",
    "Then 4 is the first bad version.\n",
    "\n",
    "\n",
    "\n",
    "\"\"\"\n",
    "def first_bad_version(n):\n",
    " \n",
    "  low = 1\n",
    "  high = n\n",
    "  while low <= high:\n",
    "    mid = (low + high) // 2\n",
    "    if isBadVersion(mid):\n",
    "     \n",
    "      return mid\n",
    "    elif not isBadVersion(mid):\n",
    "      \n",
    "      low = mid + 1\n",
    "    else:\n",
    "   \n",
    "      high = mid - 1\n",
    "  return -1\n",
    "\n",
    "\n",
    "if __name__ == \"__main__\":\n",
    "  n = 5\n",
    "  isBadVersion = lambda version: version >= 4\n",
    "  first_bad_version = first_bad_version(n)\n",
    "  print(first_bad_version)\n",
    "\n"
   ]
  },
  {
   "cell_type": "code",
   "execution_count": 12,
   "id": "89c573ca-0215-4457-aae1-216b4300c870",
   "metadata": {},
   "outputs": [
    {
     "name": "stdout",
     "output_type": "stream",
     "text": [
      "3\n"
     ]
    }
   ],
   "source": [
    "\"\"\"\n",
    "Given an array of integers, find the inversion of an array. Formally, two elements a[i] and a[j] form an inversion if a[i] > a[j] and i < j.\n",
    "N=5, arr[] = {2, 4, 1, 3, 5}\n",
    "Output: 3\n",
    "Explanation: (2,1) (4,1) and (4,3) forms an inversion in an array\n",
    "\"\"\"\n",
    "def inversion_count(nums):\n",
    " \n",
    "  inversion_count = 0\n",
    "  for i in range(len(nums)):\n",
    "    for j in range(i + 1, len(nums)):\n",
    "      if nums[i] > nums[j]:\n",
    "        inversion_count += 1\n",
    "  return inversion_count\n",
    "\n",
    "\n",
    "if __name__ == \"__main__\":\n",
    "  nums = [2, 4, 1, 3, 5]\n",
    "  inversion_count = inversion_count(nums)\n",
    "  print(inversion_count)\n"
   ]
  },
  {
   "cell_type": "code",
   "execution_count": null,
   "id": "6db7b6e7-11cb-4465-9d28-0743ee7eb8d9",
   "metadata": {},
   "outputs": [],
   "source": [
    "Given three arrays sorted in non-decreasing order, print all common elements in these arrays.\n",
    "ar1[] = {1, 5, 10, 20, 40, 80} \n",
    "ar2[] = {6, 7, 20, 80, 100} \n",
    "ar3[] = {3, 4, 15, 20, 30, 70, 80, 120} \n",
    "Output: 20, 80\n",
    "\"\"\""
   ]
  }
 ],
 "metadata": {
  "kernelspec": {
   "display_name": "Python 3 (ipykernel)",
   "language": "python",
   "name": "python3"
  },
  "language_info": {
   "codemirror_mode": {
    "name": "ipython",
    "version": 3
   },
   "file_extension": ".py",
   "mimetype": "text/x-python",
   "name": "python",
   "nbconvert_exporter": "python",
   "pygments_lexer": "ipython3",
   "version": "3.10.8"
  }
 },
 "nbformat": 4,
 "nbformat_minor": 5
}
