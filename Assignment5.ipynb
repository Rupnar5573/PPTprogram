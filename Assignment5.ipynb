{
 "cells": [
  {
   "cell_type": "code",
   "execution_count": 1,
   "id": "2b9892bf-f30b-4f39-b8aa-a877105cacce",
   "metadata": {},
   "outputs": [
    {
     "data": {
      "text/plain": [
       "[[1, 2, 3, 4], [5, 6, 7, 8]]"
      ]
     },
     "execution_count": 1,
     "metadata": {},
     "output_type": "execute_result"
    }
   ],
   "source": [
    "\"\"\"\n",
    "💡 **Question 1**\n",
    "\n",
    "Convert 1D Array Into 2D Array\n",
    "\n",
    "You are given a **0-indexed** 1-dimensional (1D) integer array original, and two integers, m and n. You are tasked with creating a 2-dimensional (2D) array with  m rows and n columns using **all** the elements from original.\n",
    "\n",
    "The elements from indices 0 to n - 1 (**inclusive**) of original should form the first row of the constructed 2D array, the elements from indices n to 2 * n - 1 (**inclusive**) should form the second row of the constructed 2D array, and so on.\n",
    "\n",
    "Return *an* m x n *2D array constructed according to the above procedure, or an empty 2D array if it is impossible*.\n",
    "\n",
    "**Example 1:**\n",
    "**Input:** original = [1,2,3,4], m = 2, n = 2\n",
    "**Output:** [[1,2],[3,4]]\n",
    "**Explanation:** The constructed 2D array should contain 2 rows and 2 columns.\n",
    "The first group of n=2 elements in original, [1,2], becomes the first row in the constructed 2D array.\n",
    "The second group of n=2 elements in original, [3,4], becomes the second row in the constructed 2D array.\n",
    "\"\"\"\n",
    "\n",
    "def convert_array(original, m, n):\n",
    "  \n",
    "  if len(original) != m * n:\n",
    "    return []\n",
    "\n",
    "  result = []\n",
    "  for i in range(m):\n",
    "    row = original[i * n:(i + 1) * n]\n",
    "    result.append(row)\n",
    "\n",
    "  return result\n",
    "original = [1, 2, 3, 4, 5, 6, 7, 8]\n",
    "m = 2\n",
    "n = 4\n",
    "convert_array(original, m, n)\n"
   ]
  },
  {
   "cell_type": "code",
   "execution_count": 2,
   "id": "fe214e91-b238-4c03-a2cd-b1d119fa10ac",
   "metadata": {},
   "outputs": [
    {
     "data": {
      "text/plain": [
       "3"
      ]
     },
     "execution_count": 2,
     "metadata": {},
     "output_type": "execute_result"
    }
   ],
   "source": [
    "\"\"\"\n",
    "💡 **Question 2**\n",
    "\n",
    "You have n coins and you want to build a staircase with these coins. The staircase consists of k rows where the ith row has exactly i coins. The last row of the staircase **may be** incomplete.\n",
    "\n",
    "Given the integer n, return *the number of **complete rows** of the staircase you will build*.\n",
    "\n",
    "**Example 1:**\n",
    "**Input:** n = 5\n",
    "**Output:** 2\n",
    "**Explanation:** Because the 3rd row is incomplete, we return 2.\n",
    "\"\"\"\n",
    "def staircase_rows(n):\n",
    "  rows = 0\n",
    "  current_coins = 1\n",
    "  while current_coins <= n:\n",
    "    rows += 1\n",
    "    current_coins += rows\n",
    "\n",
    "  return rows\n",
    "n = 5\n",
    "staircase_rows(n)\n",
    "\n"
   ]
  },
  {
   "cell_type": "code",
   "execution_count": 3,
   "id": "08005fe0-9a94-4ec6-8dea-5180d71ab0f5",
   "metadata": {},
   "outputs": [
    {
     "data": {
      "text/plain": [
       "[0, 1, 9, 16, 100]"
      ]
     },
     "execution_count": 3,
     "metadata": {},
     "output_type": "execute_result"
    }
   ],
   "source": [
    "\"\"\"\n",
    "💡 **Question 3**\n",
    "\n",
    "Given an integer array nums sorted in **non-decreasing** order, return *an array of **the squares of each number** sorted in non-decreasing order*.\n",
    "\n",
    "**Example 1:**\n",
    "**Input:** nums = [-4,-1,0,3,10]\n",
    "**Output:** [0,1,9,16,100]\n",
    "**Explanation:** After squaring, the array becomes [16,1,0,9,100].\n",
    "After sorting, it becomes [0,1,9,16,100].\n",
    "\n",
    "\"\"\"\n",
    "def squares_of_sorted_array(nums):\n",
    "  squares = []\n",
    "  for num in nums:\n",
    "    squares.append(num * num)\n",
    "  squares.sort()\n",
    "  return squares\n",
    "\n",
    "nums = [-4, -1, 0, 3, 10]\n",
    "squares_of_sorted_array(nums)\n",
    "\n"
   ]
  },
  {
   "cell_type": "code",
   "execution_count": 4,
   "id": "3964b011-7caf-4af6-83bd-df8a0d9728b6",
   "metadata": {},
   "outputs": [
    {
     "data": {
      "text/plain": [
       "[[1, 2, 3], [4, 6]]"
      ]
     },
     "execution_count": 4,
     "metadata": {},
     "output_type": "execute_result"
    }
   ],
   "source": [
    "\"\"\"\n",
    "💡 **Question 4**\n",
    "\n",
    "Given two **0-indexed** integer arrays nums1 and nums2, return *a list* answer *of size* 2 *where:*\n",
    "\n",
    "- answer[0] *is a list of all **distinct** integers in* nums1 *which are **not** present in* nums2*.*\n",
    "- answer[1] *is a list of all **distinct** integers in* nums2 *which are **not** present in* nums1.\n",
    "\n",
    "**Note** that the integers in the lists may be returned in **any** order.\n",
    "**Example 1:**\n",
    "**Input:** nums1 = [1,2,3], nums2 = [2,4,6]\n",
    "**Output:** [[1,3],[4,6]]\n",
    "**Explanation:**\n",
    "For nums1, nums1[1] = 2 is present at index 0 of nums2, whereas nums1[0] = 1 and nums1[2] = 3 are not present in nums2. Therefore, answer[0] = [1,3].\n",
    "For nums2, nums2[0] = 2 is present at index 1 of nums1, whereas nums2[1] = 4 and nums2[2] = 6 are not present in nums2. Therefore, answer[1] = [4,6].\n",
    "\"\"\"\n",
    "def distinct_integers_in_two_arrays(nums1, nums2):\n",
    "  \"\"\"\n",
    "  Returns a list of distinct integers in nums1 not present in nums2 and a list of distinct integers in nums2 not present in nums1.\n",
    "\n",
    "  Args:\n",
    "    nums1: The first array.\n",
    "    nums2: The second array.\n",
    "\n",
    "  Returns:\n",
    "    A list of two lists, where the first list contains all distinct integers in nums1 not present in nums2, and the second list contains all distinct integers in nums2 not present in nums1.\n",
    "  \"\"\"\n",
    "\n",
    "  seen = set()\n",
    "  result = [[], []]\n",
    "\n",
    "  for num in nums1:\n",
    "    if num not in seen:\n",
    "      result[0].append(num)\n",
    "      seen.add(num)\n",
    "\n",
    "  for num in nums2:\n",
    "    if num not in seen:\n",
    "      result[1].append(num)\n",
    "      seen.add(num)\n",
    "  return result\n",
    "nums1 = [1, 2, 3]\n",
    "nums2 = [2, 4, 6]\n",
    "\n",
    "distinct_integers_in_two_arrays(nums1, nums2)\n"
   ]
  },
  {
   "cell_type": "code",
   "execution_count": 5,
   "id": "88e125ef-af88-4e97-bfb1-8cafdba1e9f0",
   "metadata": {},
   "outputs": [
    {
     "data": {
      "text/plain": [
       "2"
      ]
     },
     "execution_count": 5,
     "metadata": {},
     "output_type": "execute_result"
    }
   ],
   "source": [
    "\"\"\"\n",
    "💡 **Question 5**\n",
    "\n",
    "Given two integer arrays arr1 and arr2, and the integer d, *return the distance value between the two arrays*.\n",
    "The distance value is defined as the number of elements arr1[i] such that there is not any element arr2[j] where |arr1[i]-arr2[j]| <= d.\n",
    "\n",
    "**Example 1:**\n",
    "**Input:** arr1 = [4,5,8], arr2 = [10,9,1,8], d = 2\n",
    "**Output:** 2\n",
    "\n",
    "\"\"\"\n",
    "def distance_value(arr1, arr2, d):\n",
    "  count = 0\n",
    "  for num in arr1:\n",
    "    found = False\n",
    "    for other_num in arr2:\n",
    "      if abs(num - other_num) <= d:\n",
    "        found = True\n",
    "        break\n",
    "    if not found:\n",
    "      count += 1\n",
    "\n",
    "  return count\n",
    "arr1 = [4, 5, 8]\n",
    "arr2 = [10, 9, 1, 8]\n",
    "d = 2\n",
    "distance_value(arr1, arr2, d)\n"
   ]
  },
  {
   "cell_type": "code",
   "execution_count": 6,
   "id": "4ecbed00-4ca8-4aa0-8503-9d0ac7902ae4",
   "metadata": {},
   "outputs": [
    {
     "data": {
      "text/plain": [
       "[2, 3]"
      ]
     },
     "execution_count": 6,
     "metadata": {},
     "output_type": "execute_result"
    }
   ],
   "source": [
    "\"\"\"\n",
    "💡 **Question 6**\n",
    "\n",
    "Given an integer array nums of length n where all the integers of nums are in the range [1, n] and each integer appears **once** or **twice**, return *an array of all the integers that appears **twice***.\n",
    "\n",
    "You must write an algorithm that runs in O(n) time and uses only constant extra space.\n",
    "\n",
    "**Example 1:**\n",
    "\n",
    "**Input:** nums = [4,3,2,7,8,2,3,1]\n",
    "\n",
    "**Output:**\n",
    "\n",
    "[2,3]\n",
    "\n",
    "\"\"\"\n",
    "def duplicate_integers(nums):\n",
    "\n",
    "  seen = set()\n",
    "  duplicates = []\n",
    "\n",
    "  for num in nums:\n",
    "    if num in seen:\n",
    "      duplicates.append(num)\n",
    "    else:\n",
    "      seen.add(num)\n",
    "\n",
    "  return duplicates\n",
    "nums = [4, 3, 2, 7, 8, 2, 3, 1]\n",
    "duplicate_integers(nums)\n",
    "\n"
   ]
  },
  {
   "cell_type": "code",
   "execution_count": 7,
   "id": "196cd604-5391-4b03-8973-02a72c10663d",
   "metadata": {},
   "outputs": [
    {
     "data": {
      "text/plain": [
       "1"
      ]
     },
     "execution_count": 7,
     "metadata": {},
     "output_type": "execute_result"
    }
   ],
   "source": [
    "\"\"\"\n",
    "💡 **Question 7**\n",
    "\n",
    "Suppose an array of length n sorted in ascending order is **rotated** between 1 and n times. For example, the array nums = [0,1,2,4,5,6,7] might become:\n",
    "- [4,5,6,7,0,1,2] if it was rotated 4 times.\n",
    "- [0,1,2,4,5,6,7] if it was rotated 7 times.\n",
    "Notice that **rotating** an array [a[0], a[1], a[2], ..., a[n-1]] 1 time results in the array [a[n-1], a[0], a[1], a[2], ..., a[n-2]].\n",
    "Given the sorted rotated array nums of **unique** elements, return *the minimum element of this array*.\n",
    "You must write an algorithm that runs in O(log n) time.\n",
    "\n",
    "**Example 1:**\n",
    "**Input:** nums = [3,4,5,1,2]\n",
    "**Output:** 1\n",
    "\"\"\"\n",
    "def find_minimum_element(nums):\n",
    "\n",
    "  low = 0\n",
    "  high = len(nums) - 1\n",
    "\n",
    "  while low < high:\n",
    "    mid = (low + high) // 2\n",
    "\n",
    "    if nums[mid] > nums[high]:\n",
    "      low = mid + 1\n",
    "    else:\n",
    "      high = mid\n",
    "  return nums[low]\n",
    "nums = [3, 4, 5, 1, 2]\n",
    "find_minimum_element(nums)\n"
   ]
  },
  {
   "cell_type": "code",
   "execution_count": null,
   "id": "79e4167e-8e95-445d-a2a1-058b93438942",
   "metadata": {},
   "outputs": [],
   "source": [
    "\"\"\"💡\n",
    "**Question 8**\n",
    "An integer array original is transformed into a **doubled** array changed by appending **twice the value** of every element in original, and then randomly **shuffling** the resulting array.\n",
    "\n",
    "Given an array changed, return original *if* changed *is a **doubled** array. If* changed *is not a **doubled** array, return an empty array. The elements in* original *may be returned in **any** order*.\n",
    "\n",
    "**Example 1:**\n",
    "**Input:** changed = [1,3,4,2,6,8]\n",
    "**Output:** [1,3,4]\n",
    "**Explanation:** One possible original array could be [1,3,4]:\n",
    "- Twice the value of 1 is 1 * 2 = 2.\n",
    "- Twice the value of 3 is 3 * 2 = 6.\n",
    "- Twice the value of 4 is 4 * 2 = 8.\n",
    "Other original arrays could be [4,3,1] or [3,1,4].\n",
    "\"\"\"\n"
   ]
  }
 ],
 "metadata": {
  "kernelspec": {
   "display_name": "Python 3 (ipykernel)",
   "language": "python",
   "name": "python3"
  },
  "language_info": {
   "codemirror_mode": {
    "name": "ipython",
    "version": 3
   },
   "file_extension": ".py",
   "mimetype": "text/x-python",
   "name": "python",
   "nbconvert_exporter": "python",
   "pygments_lexer": "ipython3",
   "version": "3.10.8"
  }
 },
 "nbformat": 4,
 "nbformat_minor": 5
}
